{
 "cells": [
  {
   "cell_type": "code",
   "execution_count": 1,
   "id": "d92ac25f-38e3-4fdd-b584-79e9cc5b8e39",
   "metadata": {},
   "outputs": [
    {
     "name": "stderr",
     "output_type": "stream",
     "text": [
      "/home/qingli/.virtualenvs/ans/lib/python3.6/site-packages/tqdm/auto.py:22: TqdmWarning: IProgress not found. Please update jupyter and ipywidgets. See https://ipywidgets.readthedocs.io/en/stable/user_install.html\n",
      "  from .autonotebook import tqdm as notebook_tqdm\n"
     ]
    },
    {
     "data": {
      "text/html": [
       "<svg  width=\"550\" height=\"55\"><rect x=\"0\" y=\"0\" width=\"55\" height=\"55\" style=\"fill:#0173b2;stroke-width:2;stroke:rgb(255,255,255)\"/><rect x=\"55\" y=\"0\" width=\"55\" height=\"55\" style=\"fill:#de8f05;stroke-width:2;stroke:rgb(255,255,255)\"/><rect x=\"110\" y=\"0\" width=\"55\" height=\"55\" style=\"fill:#029e73;stroke-width:2;stroke:rgb(255,255,255)\"/><rect x=\"165\" y=\"0\" width=\"55\" height=\"55\" style=\"fill:#d55e00;stroke-width:2;stroke:rgb(255,255,255)\"/><rect x=\"220\" y=\"0\" width=\"55\" height=\"55\" style=\"fill:#cc78bc;stroke-width:2;stroke:rgb(255,255,255)\"/><rect x=\"275\" y=\"0\" width=\"55\" height=\"55\" style=\"fill:#ca9161;stroke-width:2;stroke:rgb(255,255,255)\"/><rect x=\"330\" y=\"0\" width=\"55\" height=\"55\" style=\"fill:#fbafe4;stroke-width:2;stroke:rgb(255,255,255)\"/><rect x=\"385\" y=\"0\" width=\"55\" height=\"55\" style=\"fill:#949494;stroke-width:2;stroke:rgb(255,255,255)\"/><rect x=\"440\" y=\"0\" width=\"55\" height=\"55\" style=\"fill:#ece133;stroke-width:2;stroke:rgb(255,255,255)\"/><rect x=\"495\" y=\"0\" width=\"55\" height=\"55\" style=\"fill:#56b4e9;stroke-width:2;stroke:rgb(255,255,255)\"/></svg>"
      ],
      "text/plain": [
       "[(0.00392156862745098, 0.45098039215686275, 0.6980392156862745),\n",
       " (0.8705882352941177, 0.5607843137254902, 0.0196078431372549),\n",
       " (0.00784313725490196, 0.6196078431372549, 0.45098039215686275),\n",
       " (0.8352941176470589, 0.3686274509803922, 0.0),\n",
       " (0.8, 0.47058823529411764, 0.7372549019607844),\n",
       " (0.792156862745098, 0.5686274509803921, 0.3803921568627451),\n",
       " (0.984313725490196, 0.6862745098039216, 0.8941176470588236),\n",
       " (0.5803921568627451, 0.5803921568627451, 0.5803921568627451),\n",
       " (0.9254901960784314, 0.8823529411764706, 0.2),\n",
       " (0.33725490196078434, 0.7058823529411765, 0.9137254901960784)]"
      ]
     },
     "execution_count": 1,
     "metadata": {},
     "output_type": "execute_result"
    }
   ],
   "source": [
    "import sys\n",
    "import os\n",
    "root_dir = '/home/qingli/Desktop/Closed-Loop-Learning/nsr/'\n",
    "os.chdir(root_dir)\n",
    "from train import *\n",
    "from matplotlib import pyplot as plt\n",
    "%matplotlib inline\n",
    "import seaborn as sns\n",
    "sns.set_theme()\n",
    "sns.set_context(\"notebook\", font_scale=1.5)\n",
    "sns.color_palette('colorblind')"
   ]
  },
  {
   "cell_type": "code",
   "execution_count": 2,
   "id": "5cf06237-e03e-4e83-9076-f7b98c8ea81e",
   "metadata": {},
   "outputs": [],
   "source": [
    "sys.argv = ['']\n",
    "args = parse_args()\n",
    "args.dataset = 'hint'\n",
    "args.split = 'simple'\n",
    "domain = get_dataset(args.dataset)\n",
    "args.domain = domain\n",
    "args.train_set = domain('train', n_sample=args.train_size)\n",
    "args.val_set = domain('val')\n",
    "args.test_set = domain('test')"
   ]
  },
  {
   "cell_type": "code",
   "execution_count": 24,
   "id": "c227eb49",
   "metadata": {},
   "outputs": [],
   "source": [
    "def evaluate(model, dataloader, n_steps=1, log_prefix='val'):\n",
    "    model.eval() \n",
    "    res_all = []\n",
    "    res_pred_all = []\n",
    "    \n",
    "    sent_all = []\n",
    "    sent_pred_all = []\n",
    "\n",
    "    dep_all = []\n",
    "    dep_pred_all = []\n",
    "\n",
    "    metrics = OrderedDict()\n",
    "\n",
    "    with torch.no_grad():\n",
    "        for sample in tqdm(dataloader):\n",
    "            res = sample['res']\n",
    "            sent = sample['sentence']\n",
    "            dep = sample['head']\n",
    "\n",
    "            res_preds, sent_preds, dep_preds = model.deduce(sample, n_steps=n_steps)\n",
    "            \n",
    "            res_pred_all.extend(res_preds)\n",
    "            res_all.extend(res)\n",
    "            sent_pred_all.extend(sent_preds)\n",
    "            sent_all.extend(sent)\n",
    "            dep_pred_all.extend(dep_preds)\n",
    "            dep_all.extend(dep)\n",
    "\n",
    "    pred = res_pred_all\n",
    "    gt = res_all\n",
    "    result_acc = np.mean([x == y  for x, y in zip(pred, gt)])\n",
    "    print(\"Percentage of missing result: %.2f\"%(np.mean([x is MISSING_VALUE for x in pred]) * 100))\n",
    "    \n",
    "    pred = [y for x in sent_pred_all for y in x]\n",
    "    gt = [y for x in sent_all for y in x]\n",
    "    perception_acc = np.mean([x == y for x,y in zip(pred, gt)])\n",
    "\n",
    "    SYMBOLS = domain.vocab\n",
    "    from sklearn.metrics import classification_report, confusion_matrix\n",
    "    report = classification_report(gt, pred, target_names=SYMBOLS)\n",
    "    cmtx = confusion_matrix(gt, pred, normalize='all')\n",
    "    cmtx = pd.DataFrame(\n",
    "        (10000*cmtx).astype('int'),\n",
    "        index=SYMBOLS,\n",
    "        columns=SYMBOLS\n",
    "    )\n",
    "    print(report)\n",
    "    print(cmtx)\n",
    "\n",
    "\n",
    "    gt_words = gt\n",
    "    pred = [y for x in dep_pred_all for y in x]\n",
    "    gt = [y for x in dep_all for y in x]\n",
    "    head_acc = np.mean(np.array(pred) == np.array(gt))\n",
    "    head_acc_list = []\n",
    "    for i, w in enumerate(domain.vocab):\n",
    "        acc_i = np.mean((np.array(pred) == np.array(gt))[np.array(gt_words) == i])\n",
    "        print(f\"{w}: {acc_i * 100:.2f}\")\n",
    "        head_acc_list.append(acc_i)\n",
    "    print(f'Digits: {np.mean(head_acc_list[:10])*100:.2f}, Operators: {np.mean(head_acc_list[10:14])*100:.2f}, Parentheses: {np.mean(head_acc_list[14:])*100:.2f}')\n",
    "\n",
    "    tracked_attrs = getattr(dataloader.dataset, 'tracked_attrs', [])\n",
    "    for attr in tracked_attrs:\n",
    "        # print(f\"result accuracy by {attr}:\")\n",
    "        attr2ids = getattr(dataloader.dataset, f'{attr}2ids')\n",
    "        for k, ids in sorted(attr2ids.items()):\n",
    "            gt = [res_all[i] for i in ids]\n",
    "            pred = [res_pred_all[i] for i in ids]\n",
    "            acc = np.mean([x == y  for x, y in zip(pred, gt)]) if ids else 0.\n",
    "            k = 'div' if k == '/' else k\n",
    "            metrics[f'result_acc/{attr}/{k}'] = acc\n",
    "\n",
    "    metrics['result_acc/avg'] = result_acc\n",
    "    metrics['perception_acc/avg'] = perception_acc\n",
    "    metrics['head_acc/avg'] = head_acc\n",
    "    \n",
    "    print(\"error cases:\")\n",
    "    errors = [i for i in range(len(res_all)) if res_pred_all[i] != res_all[i]]\n",
    "    if len(errors) == 0:\n",
    "        errors = [i for i in range(len(res_all)) if dep_pred_all[i] != dep_all[i]]\n",
    "    for i in errors[:3]:\n",
    "        expr = ' '.join([model.config.domain.i2w[x] for x in sent_all[i]])\n",
    "        expr_pred = ' '.join([model.config.domain.i2w[x] for x in sent_pred_all[i]])\n",
    "        print(expr)\n",
    "        print(expr_pred)\n",
    "        print(dep_all[i])\n",
    "        print(dep_pred_all[i])\n",
    "        print(res_all[i])\n",
    "        print(res_pred_all[i])\n",
    "        print()\n",
    "        # tree = draw_parse(expr_pred, dep_pred_all[i])\n",
    "        # tree.draw()\n",
    "\n",
    "\n",
    "    return perception_acc, head_acc, result_acc"
   ]
  },
  {
   "cell_type": "code",
   "execution_count": 15,
   "id": "1fc3eb4d",
   "metadata": {},
   "outputs": [
    {
     "name": "stderr",
     "output_type": "stream",
     "text": [
      "100%|██████████| 729/729 [1:04:24<00:00,  5.30s/it]\n"
     ]
    },
    {
     "name": "stdout",
     "output_type": "stream",
     "text": [
      "Percentage of missing result: 10.50\n",
      "              precision    recall  f1-score   support\n",
      "\n",
      "           0       0.99      0.99      0.99     37211\n",
      "           1       0.98      0.99      0.98     51360\n",
      "           2       0.99      1.00      0.99     51769\n",
      "           3       0.99      1.00      0.99     52691\n",
      "           4       0.99      1.00      0.99     53107\n",
      "           5       1.00      1.00      1.00     53310\n",
      "           6       0.99      0.99      0.99     53805\n",
      "           7       1.00      0.98      0.99     54277\n",
      "           8       0.99      1.00      1.00     54434\n",
      "           9       1.00      0.98      0.99     54716\n",
      "           +       0.99      1.00      0.99    141105\n",
      "           -       1.00      1.00      1.00    102765\n",
      "           *       0.95      0.98      0.96    130088\n",
      "           /       0.99      0.90      0.94     96102\n",
      "           (       0.73      1.00      0.84    205661\n",
      "           )       1.00      0.64      0.78    205661\n",
      "\n",
      "    accuracy                           0.94   1398062\n",
      "   macro avg       0.97      0.96      0.97   1398062\n",
      "weighted avg       0.95      0.94      0.93   1398062\n",
      "\n",
      "     0    1    2    3    4    5    6    7    8    9     +    -    *    /     (    )\n",
      "0  263    0    0    0    0    0    0    0    0    0     0    0    0    0     0    0\n",
      "1    0  364    1    0    0    0    0    0    0    0     0    0    0    0     0    0\n",
      "2    0    0  370    0    0    0    0    0    0    0     0    0    0    0     0    0\n",
      "3    0    0    0  375    0    0    0    0    0    0     0    0    0    0     0    0\n",
      "4    0    0    0    0  379    0    0    0    0    0     0    0    0    0     0    0\n",
      "5    0    0    0    0    0  380    0    0    0    0     0    0    0    0     0    0\n",
      "6    2    0    0    0    0    0  382    0    0    0     0    0    0    0     0    0\n",
      "7    0    6    0    0    0    0    0  380    0    0     1    0    0    0     0    0\n",
      "8    0    0    0    0    0    0    0    0  389    0     0    0    0    0     0    0\n",
      "9    0    0    0    2    2    0    0    0    2  383     0    0    0    0     0    0\n",
      "+    0    0    0    0    0    0    0    0    0    0  1007    0    0    0     0    0\n",
      "-    0    0    0    0    0    0    0    0    0    0     0  734    0    0     0    0\n",
      "*    0    0    0    0    0    0    0    0    0    0     9    1  908    3     7    0\n",
      "/    0    0    0    0    0    0    0    0    0    0     0    0   46  619    19    1\n",
      "(    0    0    0    0    0    0    1    0    0    0     0    1    0    0  1467    0\n",
      ")    0    0    1    0    0    0    0    0    0    0     0    0    0    0   523  945\n",
      "error cases:\n",
      "9\n",
      "3\n",
      "[-1]\n",
      "[-1]\n",
      "9\n",
      "3\n",
      "\n",
      "9 / 7\n",
      "9 ) 7\n",
      "[1, -1, 1]\n",
      "[1, -1, 1]\n",
      "2\n",
      "-2\n",
      "\n",
      "6 * 8\n",
      "0 * 8\n",
      "[1, -1, 1]\n",
      "[1, -1, 1]\n",
      "48\n",
      "0\n",
      "\n",
      "Iter 0: val (Perception Acc=93.51, Head Acc=100.00, Result Acc=83.51)\n"
     ]
    }
   ],
   "source": [
    "args.perception = False\n",
    "args.syntax = True\n",
    "args.semantics = True\n",
    "args.resume = 'outputs/wandb/run-20220926_094832-5u4qo99n/ckpt/model_100.p'\n",
    "model = Jointer(args)\n",
    "if args.resume:\n",
    "    st_epoch = model.load(args.resume)\n",
    "\n",
    "batch_size = 64\n",
    "eval_dataloader = torch.utils.data.DataLoader(args.test_set, batch_size=batch_size,\n",
    "                         shuffle=False, num_workers=4, collate_fn=args.domain.collate)\n",
    "perception_acc, head_acc, result_acc = evaluate(model, eval_dataloader)\n",
    "print('Iter {}: {} (Perception Acc={:.2f}, Head Acc={:.2f}, Result Acc={:.2f})'.format(0, 'val', 100*perception_acc, 100*head_acc, 100*result_acc))"
   ]
  },
  {
   "cell_type": "code",
   "execution_count": 25,
   "id": "6dc816bf",
   "metadata": {},
   "outputs": [
    {
     "name": "stderr",
     "output_type": "stream",
     "text": [
      "100%|██████████| 729/729 [01:10<00:00, 10.34it/s]\n"
     ]
    },
    {
     "name": "stdout",
     "output_type": "stream",
     "text": [
      "Percentage of missing result: 0.32\n",
      "              precision    recall  f1-score   support\n",
      "\n",
      "           0       1.00      1.00      1.00     37211\n",
      "           1       1.00      1.00      1.00     51360\n",
      "           2       1.00      1.00      1.00     51769\n",
      "           3       1.00      1.00      1.00     52691\n",
      "           4       1.00      1.00      1.00     53107\n",
      "           5       1.00      1.00      1.00     53310\n",
      "           6       1.00      1.00      1.00     53805\n",
      "           7       1.00      1.00      1.00     54277\n",
      "           8       1.00      1.00      1.00     54434\n",
      "           9       1.00      1.00      1.00     54716\n",
      "           +       1.00      1.00      1.00    141105\n",
      "           -       1.00      1.00      1.00    102765\n",
      "           *       1.00      1.00      1.00    130088\n",
      "           /       1.00      1.00      1.00     96102\n",
      "           (       1.00      1.00      1.00    205661\n",
      "           )       1.00      1.00      1.00    205661\n",
      "\n",
      "    accuracy                           1.00   1398062\n",
      "   macro avg       1.00      1.00      1.00   1398062\n",
      "weighted avg       1.00      1.00      1.00   1398062\n",
      "\n",
      "     0    1    2    3    4    5    6    7    8    9     +    -    *    /     (     )\n",
      "0  266    0    0    0    0    0    0    0    0    0     0    0    0    0     0     0\n",
      "1    0  367    0    0    0    0    0    0    0    0     0    0    0    0     0     0\n",
      "2    0    0  370    0    0    0    0    0    0    0     0    0    0    0     0     0\n",
      "3    0    0    0  376    0    0    0    0    0    0     0    0    0    0     0     0\n",
      "4    0    0    0    0  379    0    0    0    0    0     0    0    0    0     0     0\n",
      "5    0    0    0    0    0  381    0    0    0    0     0    0    0    0     0     0\n",
      "6    0    0    0    0    0    0  384    0    0    0     0    0    0    0     0     0\n",
      "7    0    0    0    0    0    0    0  388    0    0     0    0    0    0     0     0\n",
      "8    0    0    0    0    0    0    0    0  389    0     0    0    0    0     0     0\n",
      "9    0    0    0    0    0    0    0    0    0  391     0    0    0    0     0     0\n",
      "+    0    0    0    0    0    0    0    0    0    0  1009    0    0    0     0     0\n",
      "-    0    0    0    0    0    0    0    0    0    0     0  735    0    0     0     0\n",
      "*    0    0    0    0    0    0    0    0    0    0     0    0  930    0     0     0\n",
      "/    0    0    0    0    0    0    0    0    0    0     0    0    0  687     0     0\n",
      "(    0    0    0    0    0    0    0    0    0    0     0    0    0    0  1471     0\n",
      ")    0    0    0    0    0    0    0    0    0    0     0    0    0    0     0  1471\n",
      "0: 99.99\n",
      "1: 100.00\n",
      "2: 100.00\n",
      "3: 100.00\n",
      "4: 99.99\n",
      "5: 100.00\n",
      "6: 100.00\n",
      "7: 100.00\n",
      "8: 100.00\n",
      "9: 100.00\n",
      "+: 96.30\n",
      "-: 96.38\n",
      "*: 95.38\n",
      "/: 95.33\n",
      "(: 41.91\n",
      "): 86.64\n",
      "Digits: 100.00, Operators: 95.85, Parentheses: 64.28\n",
      "error cases:\n",
      "6 - ( 5 - 0 ) / 5 + 2 / 7\n",
      "6 - ( 5 - 0 ) / 5 + 2 / 7\n",
      "[1, 9, 4, 4, 7, 4, 4, 1, 7, -1, 11, 9, 11]\n",
      "[1, -1, 4, 4, 7, 4, 4, 9, 7, 1, 11, 9, 11]\n",
      "6\n",
      "4\n",
      "\n",
      "8 / ( ( 1 + 0 + 2 ) / 5 * 2 )\n",
      "8 / ( ( 1 + 0 + 2 ) / 5 * 2 )\n",
      "[1, -1, 12, 7, 5, 7, 5, 10, 7, 7, 12, 10, 1, 12, 12]\n",
      "[1, 10, 1, 4, 5, 7, 5, 1, 7, 7, 12, 10, -1, 12, 12]\n",
      "4\n",
      "2\n",
      "\n",
      "1 - ( 7 - ( 5 + 3 ) / 3 - 5 )\n",
      "1 - ( 7 - ( 5 + 3 ) / 3 - 5 )\n",
      "[1, -1, 12, 4, 12, 7, 7, 10, 7, 7, 4, 10, 1, 12, 12]\n",
      "[1, -1, 3, 4, 1, 7, 7, 10, 7, 7, 12, 10, 4, 12, 4]\n",
      "1\n",
      "0\n",
      "\n",
      "Iter 0: val (Perception Acc=100.00, Head Acc=88.10, Result Acc=93.39)\n"
     ]
    }
   ],
   "source": [
    "args.perception = True\n",
    "args.syntax = False\n",
    "args.semantics = True\n",
    "args.resume = 'outputs/wandb/run-20220926_094832-5u4qo99n/ckpt/model_100.p'\n",
    "model = Jointer(args)\n",
    "if args.resume:\n",
    "    st_epoch = model.load(args.resume)\n",
    "\n",
    "batch_size = 64\n",
    "eval_dataloader = torch.utils.data.DataLoader(args.test_set, batch_size=batch_size,\n",
    "                         shuffle=False, num_workers=4, collate_fn=args.domain.collate)\n",
    "perception_acc, head_acc, result_acc = evaluate(model, eval_dataloader)\n",
    "print('Iter {}: {} (Perception Acc={:.2f}, Head Acc={:.2f}, Result Acc={:.2f})'.format(0, 'val', 100*perception_acc, 100*head_acc, 100*result_acc))"
   ]
  },
  {
   "cell_type": "code",
   "execution_count": 23,
   "id": "34aec6e1",
   "metadata": {},
   "outputs": [
    {
     "name": "stdout",
     "output_type": "stream",
     "text": [
      "CUDA is available?: True\n",
      "using cuda?: True\n"
     ]
    },
    {
     "name": "stderr",
     "output_type": "stream",
     "text": [
      " 17%|█▋        | 127/729 [00:03<00:20, 29.27it/s]"
     ]
    },
    {
     "name": "stdout",
     "output_type": "stream",
     "text": [
      "RecursionError()\n"
     ]
    },
    {
     "name": "stderr",
     "output_type": "stream",
     "text": [
      " 19%|█▉        | 141/729 [00:06<01:13,  8.00it/s]"
     ]
    },
    {
     "name": "stdout",
     "output_type": "stream",
     "text": [
      "RecursionError()\n"
     ]
    },
    {
     "name": "stderr",
     "output_type": "stream",
     "text": [
      " 23%|██▎       | 171/729 [00:07<00:28, 19.72it/s]"
     ]
    },
    {
     "name": "stdout",
     "output_type": "stream",
     "text": [
      "RecursionError()\n",
      "RecursionError()\n",
      "RecursionError()\n",
      "RecursionError()\n",
      "RecursionError()\n"
     ]
    },
    {
     "name": "stderr",
     "output_type": "stream",
     "text": [
      " 25%|██▍       | 179/729 [00:07<00:25, 21.76it/s]"
     ]
    },
    {
     "name": "stdout",
     "output_type": "stream",
     "text": [
      "RecursionError()\n",
      "RecursionError()\n",
      "RecursionError()\n",
      "RecursionError()\n"
     ]
    },
    {
     "name": "stderr",
     "output_type": "stream",
     "text": [
      " 25%|██▌       | 185/729 [00:08<00:24, 22.22it/s]"
     ]
    },
    {
     "name": "stdout",
     "output_type": "stream",
     "text": [
      "RecursionError()\n",
      "RecursionError()\n"
     ]
    },
    {
     "name": "stderr",
     "output_type": "stream",
     "text": [
      " 29%|██▉       | 215/729 [00:09<00:29, 17.65it/s]"
     ]
    },
    {
     "name": "stdout",
     "output_type": "stream",
     "text": [
      "RecursionError()\n",
      "RecursionError()\n",
      "RecursionError()\n",
      "RecursionError()\n",
      "RecursionError()\n",
      "RecursionError()\n"
     ]
    },
    {
     "name": "stderr",
     "output_type": "stream",
     "text": [
      " 30%|███       | 220/729 [00:11<01:39,  5.14it/s]"
     ]
    },
    {
     "name": "stdout",
     "output_type": "stream",
     "text": [
      "RecursionError()\n",
      "RecursionError()\n",
      "RecursionError()\n",
      "RecursionError()\n",
      "RecursionError()\n",
      "RecursionError()\n",
      "RecursionError()\n",
      "RecursionError()\n"
     ]
    },
    {
     "name": "stderr",
     "output_type": "stream",
     "text": [
      " 31%|███       | 226/729 [00:12<00:56,  8.87it/s]"
     ]
    },
    {
     "name": "stdout",
     "output_type": "stream",
     "text": [
      "RecursionError()\n",
      "RecursionError()\n",
      "RecursionError()\n",
      "RecursionError()\n",
      "RecursionError()\n",
      "RecursionError()\n",
      "RecursionError()\n",
      "RecursionError()\n",
      "RecursionError()\n",
      "RecursionError()\n"
     ]
    },
    {
     "name": "stderr",
     "output_type": "stream",
     "text": [
      " 31%|███▏      | 229/729 [00:12<00:45, 11.09it/s]"
     ]
    },
    {
     "name": "stdout",
     "output_type": "stream",
     "text": [
      "RecursionError()\n",
      "RecursionError()\n"
     ]
    },
    {
     "name": "stderr",
     "output_type": "stream",
     "text": [
      " 36%|███▌      | 260/729 [00:13<00:27, 16.88it/s]"
     ]
    },
    {
     "name": "stdout",
     "output_type": "stream",
     "text": [
      "RecursionError()\n",
      "RecursionError()\n"
     ]
    },
    {
     "name": "stderr",
     "output_type": "stream",
     "text": [
      " 36%|███▋      | 265/729 [00:16<01:41,  4.56it/s]"
     ]
    },
    {
     "name": "stdout",
     "output_type": "stream",
     "text": [
      "RecursionError()\n",
      "RecursionError()\n",
      "RecursionError()\n",
      "RecursionError()\n",
      "RecursionError()\n",
      "RecursionError()\n",
      "RecursionError()\n"
     ]
    },
    {
     "name": "stderr",
     "output_type": "stream",
     "text": [
      " 37%|███▋      | 270/729 [00:16<00:59,  7.76it/s]"
     ]
    },
    {
     "name": "stdout",
     "output_type": "stream",
     "text": [
      "RecursionError()\n",
      "RecursionError()\n",
      "RecursionError()\n",
      "RecursionError()\n",
      "RecursionError()\n",
      "RecursionError()\n",
      "RecursionError()\n"
     ]
    },
    {
     "name": "stderr",
     "output_type": "stream",
     "text": [
      " 38%|███▊      | 276/729 [00:16<00:35, 12.90it/s]"
     ]
    },
    {
     "name": "stdout",
     "output_type": "stream",
     "text": [
      "RecursionError()\n",
      "RecursionError()\n"
     ]
    },
    {
     "name": "stderr",
     "output_type": "stream",
     "text": [
      " 42%|████▏     | 307/729 [00:18<00:29, 14.54it/s]"
     ]
    },
    {
     "name": "stdout",
     "output_type": "stream",
     "text": [
      "RecursionError()\n",
      "RecursionError()\n"
     ]
    },
    {
     "name": "stderr",
     "output_type": "stream",
     "text": [
      " 43%|████▎     | 312/729 [00:20<01:40,  4.13it/s]"
     ]
    },
    {
     "name": "stdout",
     "output_type": "stream",
     "text": [
      "RecursionError()\n",
      "RecursionError()\n",
      "RecursionError()\n",
      "RecursionError()\n",
      "RecursionError()\n",
      "RecursionError()\n",
      "RecursionError()\n",
      "RecursionError()\n",
      "RecursionError()\n",
      "RecursionError()\n",
      "RecursionError()\n",
      "RecursionError()\n"
     ]
    },
    {
     "name": "stderr",
     "output_type": "stream",
     "text": [
      " 43%|████▎     | 317/729 [00:21<00:56,  7.28it/s]"
     ]
    },
    {
     "name": "stdout",
     "output_type": "stream",
     "text": [
      "RecursionError()\n",
      "RecursionError()\n",
      "RecursionError()\n",
      "RecursionError()\n",
      "RecursionError()\n",
      "RecursionError()\n",
      "RecursionError()\n"
     ]
    },
    {
     "name": "stderr",
     "output_type": "stream",
     "text": [
      " 44%|████▍     | 320/729 [00:21<00:43,  9.51it/s]"
     ]
    },
    {
     "name": "stdout",
     "output_type": "stream",
     "text": [
      "RecursionError()\n",
      "RecursionError()\n",
      "RecursionError()\n",
      "RecursionError()\n"
     ]
    },
    {
     "name": "stderr",
     "output_type": "stream",
     "text": [
      " 45%|████▌     | 329/729 [00:23<01:03,  6.33it/s]"
     ]
    },
    {
     "name": "stdout",
     "output_type": "stream",
     "text": [
      "RecursionError()\n",
      "RecursionError()\n",
      "RecursionError()\n"
     ]
    },
    {
     "name": "stderr",
     "output_type": "stream",
     "text": [
      " 49%|████▉     | 356/729 [00:25<00:30, 12.33it/s]"
     ]
    },
    {
     "name": "stdout",
     "output_type": "stream",
     "text": [
      "RecursionError()\n",
      "RecursionError()\n",
      "RecursionError()\n",
      "RecursionError()\n",
      "RecursionError()\n",
      "RecursionError()\n",
      "RecursionError()\n",
      "RecursionError()\n",
      "RecursionError()\n"
     ]
    },
    {
     "name": "stderr",
     "output_type": "stream",
     "text": [
      " 49%|████▉     | 360/729 [00:25<00:28, 12.82it/s]"
     ]
    },
    {
     "name": "stdout",
     "output_type": "stream",
     "text": [
      "RecursionError()\n",
      "RecursionError()\n",
      "RecursionError()\n",
      "RecursionError()\n"
     ]
    },
    {
     "name": "stderr",
     "output_type": "stream",
     "text": [
      " 50%|████▉     | 362/729 [00:26<00:31, 11.54it/s]"
     ]
    },
    {
     "name": "stdout",
     "output_type": "stream",
     "text": [
      "RecursionError()\n",
      "RecursionError()\n",
      "RecursionError()\n",
      "RecursionError()\n",
      "RecursionError()\n",
      "RecursionError()\n",
      "RecursionError()\n"
     ]
    },
    {
     "name": "stderr",
     "output_type": "stream",
     "text": [
      " 50%|█████     | 367/729 [00:28<01:25,  4.26it/s]"
     ]
    },
    {
     "name": "stdout",
     "output_type": "stream",
     "text": [
      "RecursionError()\n",
      "RecursionError()\n",
      "RecursionError()\n",
      "RecursionError()\n",
      "RecursionError()\n",
      "RecursionError()\n",
      "RecursionError()\n"
     ]
    },
    {
     "name": "stderr",
     "output_type": "stream",
     "text": [
      " 51%|█████     | 373/729 [00:28<00:42,  8.43it/s]"
     ]
    },
    {
     "name": "stdout",
     "output_type": "stream",
     "text": [
      "RecursionError()\n",
      "RecursionError()\n",
      "RecursionError()\n",
      "RecursionError()\n",
      "RecursionError()\n"
     ]
    },
    {
     "name": "stderr",
     "output_type": "stream",
     "text": [
      " 55%|█████▌    | 403/729 [00:31<00:28, 11.39it/s]"
     ]
    },
    {
     "name": "stdout",
     "output_type": "stream",
     "text": [
      "RecursionError()\n",
      "RecursionError()\n",
      "RecursionError()\n",
      "RecursionError()\n",
      "RecursionError()\n",
      "RecursionError()\n",
      "RecursionError()\n",
      "RecursionError()\n",
      "RecursionError()\n",
      "RecursionError()\n",
      "RecursionError()\n"
     ]
    },
    {
     "name": "stderr",
     "output_type": "stream",
     "text": [
      " 56%|█████▌    | 407/729 [00:33<01:28,  3.65it/s]"
     ]
    },
    {
     "name": "stdout",
     "output_type": "stream",
     "text": [
      "RecursionError()\n",
      "RecursionError()\n",
      "RecursionError()\n",
      "RecursionError()\n",
      "RecursionError()\n",
      "RecursionError()\n",
      "RecursionError()\n",
      "RecursionError()\n",
      "RecursionError()\n",
      "RecursionError()\n"
     ]
    },
    {
     "name": "stderr",
     "output_type": "stream",
     "text": [
      " 56%|█████▌    | 409/729 [00:33<01:07,  4.74it/s]"
     ]
    },
    {
     "name": "stdout",
     "output_type": "stream",
     "text": [
      "RecursionError()\n",
      "RecursionError()\n",
      "RecursionError()\n",
      "RecursionError()\n",
      "RecursionError()\n",
      "RecursionError()\n",
      "RecursionError()\n",
      "RecursionError()\n"
     ]
    },
    {
     "name": "stderr",
     "output_type": "stream",
     "text": [
      " 57%|█████▋    | 414/729 [00:33<00:39,  7.93it/s]"
     ]
    },
    {
     "name": "stdout",
     "output_type": "stream",
     "text": [
      "RecursionError()\n",
      "RecursionError()\n",
      "RecursionError()\n",
      "RecursionError()\n",
      "RecursionError()\n",
      "RecursionError()\n",
      "RecursionError()\n"
     ]
    },
    {
     "name": "stderr",
     "output_type": "stream",
     "text": [
      " 60%|█████▉    | 435/729 [00:36<00:32,  9.04it/s]"
     ]
    },
    {
     "name": "stdout",
     "output_type": "stream",
     "text": [
      "RecursionError()\n",
      "RecursionError()\n",
      "RecursionError()\n",
      "RecursionError()\n",
      "RecursionError()\n"
     ]
    },
    {
     "name": "stderr",
     "output_type": "stream",
     "text": [
      " 60%|██████    | 439/729 [00:37<00:29,  9.90it/s]"
     ]
    },
    {
     "name": "stdout",
     "output_type": "stream",
     "text": [
      "RecursionError()\n",
      "RecursionError()\n",
      "RecursionError()\n",
      "RecursionError()\n",
      "RecursionError()\n",
      "RecursionError()\n",
      "RecursionError()\n",
      "RecursionError()\n",
      "RecursionError()\n",
      "RecursionError()\n"
     ]
    },
    {
     "name": "stderr",
     "output_type": "stream",
     "text": [
      " 60%|██████    | 441/729 [00:37<00:30,  9.56it/s]"
     ]
    },
    {
     "name": "stdout",
     "output_type": "stream",
     "text": [
      "RecursionError()\n",
      "RecursionError()\n",
      "RecursionError()\n",
      "RecursionError()\n"
     ]
    },
    {
     "name": "stderr",
     "output_type": "stream",
     "text": [
      " 61%|██████    | 446/729 [00:39<01:10,  4.01it/s]"
     ]
    },
    {
     "name": "stdout",
     "output_type": "stream",
     "text": [
      "RecursionError()\n",
      "RecursionError()\n",
      "RecursionError()\n",
      "RecursionError()\n",
      "RecursionError()\n",
      "RecursionError()\n",
      "RecursionError()\n",
      "RecursionError()\n",
      "RecursionError()\n",
      "RecursionError()\n"
     ]
    },
    {
     "name": "stderr",
     "output_type": "stream",
     "text": [
      " 64%|██████▎   | 463/729 [00:41<00:26, 10.17it/s]"
     ]
    },
    {
     "name": "stdout",
     "output_type": "stream",
     "text": [
      "RecursionError()\n",
      "RecursionError()\n",
      "RecursionError()\n",
      "RecursionError()\n",
      "RecursionError()\n",
      "RecursionError()\n"
     ]
    },
    {
     "name": "stderr",
     "output_type": "stream",
     "text": [
      " 64%|██████▍   | 467/729 [00:41<00:27,  9.55it/s]"
     ]
    },
    {
     "name": "stdout",
     "output_type": "stream",
     "text": [
      "RecursionError()\n",
      "RecursionError()\n",
      "RecursionError()\n",
      "RecursionError()\n",
      "RecursionError()\n",
      "RecursionError()\n",
      "RecursionError()\n",
      "RecursionError()\n",
      "RecursionError()\n",
      "RecursionError()\n",
      "RecursionError()\n"
     ]
    },
    {
     "name": "stderr",
     "output_type": "stream",
     "text": [
      " 65%|██████▍   | 471/729 [00:43<01:17,  3.32it/s]"
     ]
    },
    {
     "name": "stdout",
     "output_type": "stream",
     "text": [
      "RecursionError()\n",
      "RecursionError()\n",
      "RecursionError()\n",
      "RecursionError()\n",
      "RecursionError()\n",
      "RecursionError()\n",
      "RecursionError()\n"
     ]
    },
    {
     "name": "stderr",
     "output_type": "stream",
     "text": [
      " 65%|██████▍   | 473/729 [00:44<00:59,  4.29it/s]"
     ]
    },
    {
     "name": "stdout",
     "output_type": "stream",
     "text": [
      "RecursionError()\n",
      "RecursionError()\n",
      "RecursionError()\n",
      "RecursionError()\n",
      "RecursionError()\n",
      "RecursionError()\n",
      "RecursionError()\n",
      "RecursionError()\n"
     ]
    },
    {
     "name": "stderr",
     "output_type": "stream",
     "text": [
      " 65%|██████▌   | 477/729 [00:44<00:37,  6.71it/s]"
     ]
    },
    {
     "name": "stdout",
     "output_type": "stream",
     "text": [
      "RecursionError()\n",
      "RecursionError()\n",
      "RecursionError()\n",
      "RecursionError()\n",
      "RecursionError()\n",
      "RecursionError()\n",
      "RecursionError()\n",
      "RecursionError()\n"
     ]
    },
    {
     "name": "stderr",
     "output_type": "stream",
     "text": [
      " 66%|██████▋   | 484/729 [00:46<00:51,  4.72it/s]"
     ]
    },
    {
     "name": "stdout",
     "output_type": "stream",
     "text": [
      "RecursionError()\n",
      "RecursionError()\n",
      "RecursionError()\n",
      "RecursionError()\n",
      "RecursionError()\n"
     ]
    },
    {
     "name": "stderr",
     "output_type": "stream",
     "text": [
      " 68%|██████▊   | 497/729 [00:47<00:29,  7.87it/s]"
     ]
    },
    {
     "name": "stdout",
     "output_type": "stream",
     "text": [
      "RecursionError()\n",
      "RecursionError()\n",
      "RecursionError()\n",
      "RecursionError()\n",
      "RecursionError()\n",
      "RecursionError()\n",
      "RecursionError()\n",
      "RecursionError()\n",
      "RecursionError()\n",
      "RecursionError()\n",
      "RecursionError()\n",
      "RecursionError()\n"
     ]
    },
    {
     "name": "stderr",
     "output_type": "stream",
     "text": [
      " 68%|██████▊   | 499/729 [00:48<00:30,  7.43it/s]"
     ]
    },
    {
     "name": "stdout",
     "output_type": "stream",
     "text": [
      "RecursionError()\n",
      "RecursionError()\n",
      "RecursionError()\n",
      "RecursionError()\n",
      "RecursionError()\n",
      "RecursionError()\n",
      "RecursionError()\n",
      "RecursionError()\n",
      "RecursionError()\n",
      "RecursionError()\n",
      "RecursionError()\n"
     ]
    },
    {
     "name": "stderr",
     "output_type": "stream",
     "text": [
      " 69%|██████▉   | 503/729 [00:50<01:21,  2.78it/s]"
     ]
    },
    {
     "name": "stdout",
     "output_type": "stream",
     "text": [
      "RecursionError()\n",
      "RecursionError()\n",
      "RecursionError()\n",
      "RecursionError()\n",
      "RecursionError()\n",
      "RecursionError()\n",
      "RecursionError()\n",
      "RecursionError()\n",
      "RecursionError()\n",
      "RecursionError()\n"
     ]
    },
    {
     "name": "stderr",
     "output_type": "stream",
     "text": [
      " 69%|██████▉   | 505/729 [00:50<01:04,  3.48it/s]"
     ]
    },
    {
     "name": "stdout",
     "output_type": "stream",
     "text": [
      "RecursionError()\n",
      "RecursionError()\n",
      "RecursionError()\n",
      "RecursionError()\n",
      "RecursionError()\n",
      "RecursionError()\n",
      "RecursionError()\n",
      "RecursionError()\n",
      "RecursionError()\n",
      "RecursionError()\n",
      "RecursionError()\n",
      "RecursionError()\n",
      "RecursionError()\n",
      "RecursionError()\n",
      "RecursionError()\n",
      "RecursionError()\n"
     ]
    },
    {
     "name": "stderr",
     "output_type": "stream",
     "text": [
      " 70%|██████▉   | 509/729 [00:50<00:41,  5.34it/s]"
     ]
    },
    {
     "name": "stdout",
     "output_type": "stream",
     "text": [
      "RecursionError()\n",
      "RecursionError()\n",
      "RecursionError()\n",
      "RecursionError()\n",
      "RecursionError()\n",
      "RecursionError()\n",
      "RecursionError()\n"
     ]
    },
    {
     "name": "stderr",
     "output_type": "stream",
     "text": [
      " 72%|███████▏  | 526/729 [00:54<00:26,  7.71it/s]"
     ]
    },
    {
     "name": "stdout",
     "output_type": "stream",
     "text": [
      "RecursionError()\n",
      "RecursionError()\n"
     ]
    },
    {
     "name": "stderr",
     "output_type": "stream",
     "text": [
      " 72%|███████▏  | 528/729 [00:54<00:30,  6.59it/s]"
     ]
    },
    {
     "name": "stdout",
     "output_type": "stream",
     "text": [
      "RecursionError()\n",
      "RecursionError()\n",
      "RecursionError()\n",
      "RecursionError()\n",
      "RecursionError()\n",
      "RecursionError()\n",
      "RecursionError()\n",
      "RecursionError()\n",
      "RecursionError()\n",
      "RecursionError()\n",
      "RecursionError()\n",
      "RecursionError()\n",
      "RecursionError()\n",
      "RecursionError()\n"
     ]
    },
    {
     "name": "stderr",
     "output_type": "stream",
     "text": [
      " 73%|███████▎  | 530/729 [00:54<00:26,  7.58it/s]"
     ]
    },
    {
     "name": "stdout",
     "output_type": "stream",
     "text": [
      "RecursionError()\n",
      "RecursionError()\n"
     ]
    },
    {
     "name": "stderr",
     "output_type": "stream",
     "text": [
      " 73%|███████▎  | 532/729 [00:55<00:28,  6.89it/s]"
     ]
    },
    {
     "name": "stdout",
     "output_type": "stream",
     "text": [
      "RecursionError()\n",
      "RecursionError()\n",
      "RecursionError()\n",
      "RecursionError()\n",
      "RecursionError()\n",
      "RecursionError()\n",
      "RecursionError()\n",
      "RecursionError()\n",
      "RecursionError()\n",
      "RecursionError()\n"
     ]
    },
    {
     "name": "stderr",
     "output_type": "stream",
     "text": [
      " 74%|███████▎  | 536/729 [00:57<00:56,  3.39it/s]"
     ]
    },
    {
     "name": "stdout",
     "output_type": "stream",
     "text": [
      "RecursionError()\n",
      "RecursionError()\n",
      "RecursionError()\n",
      "RecursionError()\n",
      "RecursionError()\n",
      "RecursionError()\n"
     ]
    },
    {
     "name": "stderr",
     "output_type": "stream",
     "text": [
      " 74%|███████▍  | 538/729 [00:57<00:45,  4.21it/s]"
     ]
    },
    {
     "name": "stdout",
     "output_type": "stream",
     "text": [
      "RecursionError()\n",
      "RecursionError()\n",
      "RecursionError()\n",
      "RecursionError()\n",
      "RecursionError()\n",
      "RecursionError()\n",
      "RecursionError()\n",
      "RecursionError()\n",
      "RecursionError()\n",
      "RecursionError()\n",
      "RecursionError()\n",
      "RecursionError()\n"
     ]
    },
    {
     "name": "stderr",
     "output_type": "stream",
     "text": [
      " 74%|███████▍  | 543/729 [00:57<00:24,  7.59it/s]"
     ]
    },
    {
     "name": "stdout",
     "output_type": "stream",
     "text": [
      "RecursionError()\n",
      "RecursionError()\n",
      "RecursionError()\n",
      "RecursionError()\n",
      "RecursionError()\n",
      "RecursionError()\n",
      "RecursionError()\n"
     ]
    },
    {
     "name": "stderr",
     "output_type": "stream",
     "text": [
      " 77%|███████▋  | 558/729 [01:00<00:31,  5.46it/s]"
     ]
    },
    {
     "name": "stdout",
     "output_type": "stream",
     "text": [
      "RecursionError()\n",
      "RecursionError()\n",
      "RecursionError()\n",
      "RecursionError()\n",
      "RecursionError()\n",
      "RecursionError()\n"
     ]
    },
    {
     "name": "stderr",
     "output_type": "stream",
     "text": [
      " 77%|███████▋  | 560/729 [01:01<00:30,  5.51it/s]"
     ]
    },
    {
     "name": "stdout",
     "output_type": "stream",
     "text": [
      "RecursionError()\n",
      "RecursionError()\n",
      "RecursionError()\n",
      "RecursionError()\n",
      "RecursionError()\n",
      "RecursionError()\n",
      "RecursionError()\n",
      "RecursionError()\n",
      "RecursionError()\n",
      "RecursionError()\n",
      "RecursionError()\n",
      "RecursionError()\n",
      "RecursionError()\n"
     ]
    },
    {
     "name": "stderr",
     "output_type": "stream",
     "text": [
      " 77%|███████▋  | 562/729 [01:01<00:26,  6.37it/s]"
     ]
    },
    {
     "name": "stdout",
     "output_type": "stream",
     "text": [
      "RecursionError()\n",
      "RecursionError()\n",
      "RecursionError()\n",
      "RecursionError()\n"
     ]
    },
    {
     "name": "stderr",
     "output_type": "stream",
     "text": [
      " 78%|███████▊  | 566/729 [01:03<00:54,  3.00it/s]"
     ]
    },
    {
     "name": "stdout",
     "output_type": "stream",
     "text": [
      "RecursionError()\n",
      "RecursionError()\n",
      "RecursionError()\n",
      "RecursionError()\n",
      "RecursionError()\n",
      "RecursionError()\n",
      "RecursionError()\n",
      "RecursionError()\n",
      "RecursionError()\n",
      "RecursionError()\n",
      "RecursionError()\n",
      "RecursionError()\n",
      "RecursionError()\n",
      "RecursionError()\n",
      "RecursionError()\n"
     ]
    },
    {
     "name": "stderr",
     "output_type": "stream",
     "text": [
      " 78%|███████▊  | 568/729 [01:03<00:41,  3.85it/s]"
     ]
    },
    {
     "name": "stdout",
     "output_type": "stream",
     "text": [
      "RecursionError()\n",
      "RecursionError()\n",
      "RecursionError()\n",
      "RecursionError()\n",
      "RecursionError()\n",
      "RecursionError()\n",
      "RecursionError()\n",
      "RecursionError()\n",
      "RecursionError()\n",
      "RecursionError()\n"
     ]
    },
    {
     "name": "stderr",
     "output_type": "stream",
     "text": [
      " 78%|███████▊  | 570/729 [01:04<00:32,  4.85it/s]"
     ]
    },
    {
     "name": "stdout",
     "output_type": "stream",
     "text": [
      "RecursionError()\n",
      "RecursionError()\n",
      "RecursionError()\n",
      "RecursionError()\n",
      "RecursionError()\n",
      "RecursionError()\n"
     ]
    },
    {
     "name": "stderr",
     "output_type": "stream",
     "text": [
      " 79%|███████▉  | 576/729 [01:06<00:40,  3.78it/s]"
     ]
    },
    {
     "name": "stdout",
     "output_type": "stream",
     "text": [
      "RecursionError()\n",
      "RecursionError()\n",
      "RecursionError()\n",
      "RecursionError()\n",
      "RecursionError()\n",
      "RecursionError()\n"
     ]
    },
    {
     "name": "stderr",
     "output_type": "stream",
     "text": [
      " 81%|████████  | 590/729 [01:08<00:19,  6.97it/s]"
     ]
    },
    {
     "name": "stdout",
     "output_type": "stream",
     "text": [
      "RecursionError()\n",
      "RecursionError()\n",
      "RecursionError()\n",
      "RecursionError()\n",
      "RecursionError()\n"
     ]
    },
    {
     "name": "stderr",
     "output_type": "stream",
     "text": [
      " 81%|████████▏ | 594/729 [01:08<00:18,  7.22it/s]"
     ]
    },
    {
     "name": "stdout",
     "output_type": "stream",
     "text": [
      "RecursionError()\n",
      "RecursionError()\n",
      "RecursionError()\n",
      "RecursionError()\n",
      "RecursionError()\n",
      "RecursionError()\n",
      "RecursionError()\n",
      "RecursionError()\n",
      "RecursionError()\n",
      "RecursionError()\n",
      "RecursionError()\n",
      "RecursionError()\n"
     ]
    },
    {
     "name": "stderr",
     "output_type": "stream",
     "text": [
      " 82%|████████▏ | 598/729 [01:11<00:43,  3.00it/s]"
     ]
    },
    {
     "name": "stdout",
     "output_type": "stream",
     "text": [
      "RecursionError()\n",
      "RecursionError()\n",
      "RecursionError()\n",
      "RecursionError()\n",
      "RecursionError()\n",
      "RecursionError()\n",
      "RecursionError()\n",
      "RecursionError()\n",
      "RecursionError()\n"
     ]
    },
    {
     "name": "stderr",
     "output_type": "stream",
     "text": [
      " 83%|████████▎ | 602/729 [01:11<00:25,  5.02it/s]"
     ]
    },
    {
     "name": "stdout",
     "output_type": "stream",
     "text": [
      "RecursionError()\n",
      "RecursionError()\n",
      "RecursionError()\n",
      "RecursionError()\n",
      "RecursionError()\n",
      "RecursionError()\n",
      "RecursionError()\n"
     ]
    },
    {
     "name": "stderr",
     "output_type": "stream",
     "text": [
      " 83%|████████▎ | 604/729 [01:11<00:19,  6.25it/s]"
     ]
    },
    {
     "name": "stdout",
     "output_type": "stream",
     "text": [
      "RecursionError()\n",
      "RecursionError()\n",
      "RecursionError()\n"
     ]
    },
    {
     "name": "stderr",
     "output_type": "stream",
     "text": [
      " 85%|████████▌ | 620/729 [01:13<00:14,  7.31it/s]"
     ]
    },
    {
     "name": "stdout",
     "output_type": "stream",
     "text": [
      "RecursionError()\n",
      "RecursionError()\n",
      "RecursionError()\n",
      "RecursionError()\n",
      "RecursionError()\n",
      "RecursionError()\n"
     ]
    },
    {
     "name": "stderr",
     "output_type": "stream",
     "text": [
      " 85%|████████▌ | 621/729 [01:15<00:55,  1.93it/s]"
     ]
    },
    {
     "name": "stdout",
     "output_type": "stream",
     "text": [
      "RecursionError()\n",
      "RecursionError()\n",
      "RecursionError()\n",
      "RecursionError()\n",
      "RecursionError()\n",
      "RecursionError()\n",
      "RecursionError()\n",
      "RecursionError()\n",
      "RecursionError()\n",
      "RecursionError()\n",
      "RecursionError()\n"
     ]
    },
    {
     "name": "stderr",
     "output_type": "stream",
     "text": [
      " 86%|████████▌ | 625/729 [01:16<00:28,  3.60it/s]"
     ]
    },
    {
     "name": "stdout",
     "output_type": "stream",
     "text": [
      "RecursionError()\n",
      "RecursionError()\n",
      "RecursionError()\n",
      "RecursionError()\n",
      "RecursionError()\n",
      "RecursionError()\n",
      "RecursionError()\n",
      "RecursionError()\n",
      "RecursionError()\n",
      "RecursionError()\n",
      "RecursionError()\n"
     ]
    },
    {
     "name": "stderr",
     "output_type": "stream",
     "text": [
      " 86%|████████▌ | 627/729 [01:16<00:21,  4.68it/s]"
     ]
    },
    {
     "name": "stdout",
     "output_type": "stream",
     "text": [
      "RecursionError()\n",
      "RecursionError()\n",
      "RecursionError()\n",
      "RecursionError()\n",
      "RecursionError()\n",
      "RecursionError()\n"
     ]
    },
    {
     "name": "stderr",
     "output_type": "stream",
     "text": [
      " 86%|████████▋ | 629/729 [01:18<00:48,  2.07it/s]"
     ]
    },
    {
     "name": "stdout",
     "output_type": "stream",
     "text": [
      "RecursionError()\n",
      "RecursionError()\n",
      "RecursionError()\n",
      "RecursionError()\n",
      "RecursionError()\n",
      "RecursionError()\n",
      "RecursionError()\n",
      "RecursionError()\n",
      "RecursionError()\n",
      "RecursionError()\n"
     ]
    },
    {
     "name": "stderr",
     "output_type": "stream",
     "text": [
      " 87%|████████▋ | 633/729 [01:18<00:26,  3.67it/s]"
     ]
    },
    {
     "name": "stdout",
     "output_type": "stream",
     "text": [
      "RecursionError()\n",
      "RecursionError()\n",
      "RecursionError()\n",
      "RecursionError()\n",
      "RecursionError()\n",
      "RecursionError()\n",
      "RecursionError()\n",
      "RecursionError()\n",
      "RecursionError()\n"
     ]
    },
    {
     "name": "stderr",
     "output_type": "stream",
     "text": [
      " 87%|████████▋ | 635/729 [01:19<00:20,  4.60it/s]"
     ]
    },
    {
     "name": "stdout",
     "output_type": "stream",
     "text": [
      "RecursionError()\n",
      "RecursionError()\n",
      "RecursionError()\n",
      "RecursionError()\n",
      "RecursionError()\n",
      "RecursionError()\n",
      "RecursionError()\n",
      "RecursionError()\n",
      "RecursionError()\n",
      "RecursionError()\n"
     ]
    },
    {
     "name": "stderr",
     "output_type": "stream",
     "text": [
      " 89%|████████▉ | 651/729 [01:22<00:21,  3.71it/s]"
     ]
    },
    {
     "name": "stdout",
     "output_type": "stream",
     "text": [
      "RecursionError()\n",
      "RecursionError()\n",
      "RecursionError()\n",
      "RecursionError()\n",
      "RecursionError()\n",
      "RecursionError()\n",
      "RecursionError()\n",
      "RecursionError()\n",
      "RecursionError()\n",
      "RecursionError()\n"
     ]
    },
    {
     "name": "stderr",
     "output_type": "stream",
     "text": [
      " 90%|████████▉ | 655/729 [01:23<00:13,  5.40it/s]"
     ]
    },
    {
     "name": "stdout",
     "output_type": "stream",
     "text": [
      "RecursionError()\n",
      "RecursionError()\n",
      "RecursionError()\n",
      "RecursionError()\n",
      "RecursionError()\n",
      "RecursionError()\n",
      "RecursionError()\n",
      "RecursionError()\n",
      "RecursionError()\n"
     ]
    },
    {
     "name": "stderr",
     "output_type": "stream",
     "text": [
      " 90%|█████████ | 657/729 [01:23<00:12,  5.89it/s]"
     ]
    },
    {
     "name": "stdout",
     "output_type": "stream",
     "text": [
      "RecursionError()\n",
      "RecursionError()\n",
      "RecursionError()\n",
      "RecursionError()\n",
      "RecursionError()\n",
      "RecursionError()\n",
      "RecursionError()\n",
      "RecursionError()\n"
     ]
    },
    {
     "name": "stderr",
     "output_type": "stream",
     "text": [
      " 90%|█████████ | 659/729 [01:25<00:29,  2.35it/s]"
     ]
    },
    {
     "name": "stdout",
     "output_type": "stream",
     "text": [
      "RecursionError()\n",
      "RecursionError()\n",
      "RecursionError()\n",
      "RecursionError()\n",
      "RecursionError()\n",
      "RecursionError()\n",
      "RecursionError()\n"
     ]
    },
    {
     "name": "stderr",
     "output_type": "stream",
     "text": [
      " 91%|█████████ | 662/729 [01:25<00:19,  3.45it/s]"
     ]
    },
    {
     "name": "stdout",
     "output_type": "stream",
     "text": [
      "RecursionError()\n",
      "RecursionError()\n",
      "RecursionError()\n",
      "RecursionError()\n",
      "RecursionError()\n",
      "RecursionError()\n",
      "RecursionError()\n",
      "RecursionError()\n",
      "RecursionError()\n",
      "RecursionError()\n"
     ]
    },
    {
     "name": "stderr",
     "output_type": "stream",
     "text": [
      " 91%|█████████ | 664/729 [01:25<00:14,  4.56it/s]"
     ]
    },
    {
     "name": "stdout",
     "output_type": "stream",
     "text": [
      "RecursionError()\n",
      "RecursionError()\n",
      "RecursionError()\n",
      "RecursionError()\n",
      "RecursionError()\n",
      "RecursionError()\n",
      "RecursionError()\n"
     ]
    },
    {
     "name": "stderr",
     "output_type": "stream",
     "text": [
      " 92%|█████████▏| 670/729 [01:28<00:16,  3.67it/s]"
     ]
    },
    {
     "name": "stdout",
     "output_type": "stream",
     "text": [
      "RecursionError()\n",
      "RecursionError()\n",
      "RecursionError()\n",
      "RecursionError()\n"
     ]
    },
    {
     "name": "stderr",
     "output_type": "stream",
     "text": [
      " 94%|█████████▎| 682/729 [01:29<00:06,  6.80it/s]"
     ]
    },
    {
     "name": "stdout",
     "output_type": "stream",
     "text": [
      "RecursionError()\n",
      "RecursionError()\n"
     ]
    },
    {
     "name": "stderr",
     "output_type": "stream",
     "text": [
      " 94%|█████████▍| 684/729 [01:30<00:08,  5.25it/s]"
     ]
    },
    {
     "name": "stdout",
     "output_type": "stream",
     "text": [
      "RecursionError()\n",
      "RecursionError()\n",
      "RecursionError()\n",
      "RecursionError()\n",
      "RecursionError()\n",
      "RecursionError()\n",
      "RecursionError()\n",
      "RecursionError()\n",
      "RecursionError()\n",
      "RecursionError()\n",
      "RecursionError()\n"
     ]
    },
    {
     "name": "stderr",
     "output_type": "stream",
     "text": [
      " 94%|█████████▍| 686/729 [01:30<00:07,  6.05it/s]"
     ]
    },
    {
     "name": "stdout",
     "output_type": "stream",
     "text": [
      "RecursionError()\n",
      "RecursionError()\n",
      "RecursionError()\n",
      "RecursionError()\n",
      "RecursionError()\n",
      "RecursionError()\n",
      "RecursionError()\n",
      "RecursionError()\n",
      "RecursionError()\n",
      "RecursionError()\n"
     ]
    },
    {
     "name": "stderr",
     "output_type": "stream",
     "text": [
      " 95%|█████████▍| 690/729 [01:32<00:13,  2.91it/s]"
     ]
    },
    {
     "name": "stdout",
     "output_type": "stream",
     "text": [
      "RecursionError()\n",
      "RecursionError()\n",
      "RecursionError()\n",
      "RecursionError()\n",
      "RecursionError()\n",
      "RecursionError()\n",
      "RecursionError()\n",
      "RecursionError()\n",
      "RecursionError()\n",
      "RecursionError()\n",
      "RecursionError()\n"
     ]
    },
    {
     "name": "stderr",
     "output_type": "stream",
     "text": [
      " 95%|█████████▍| 692/729 [01:33<00:09,  3.71it/s]"
     ]
    },
    {
     "name": "stdout",
     "output_type": "stream",
     "text": [
      "RecursionError()\n",
      "RecursionError()\n",
      "RecursionError()\n",
      "RecursionError()\n",
      "RecursionError()\n",
      "RecursionError()\n",
      "RecursionError()\n",
      "RecursionError()\n",
      "RecursionError()\n",
      "RecursionError()\n",
      "RecursionError()\n",
      "RecursionError()\n"
     ]
    },
    {
     "name": "stderr",
     "output_type": "stream",
     "text": [
      " 95%|█████████▌| 694/729 [01:33<00:07,  4.58it/s]"
     ]
    },
    {
     "name": "stdout",
     "output_type": "stream",
     "text": [
      "RecursionError()\n",
      "RecursionError()\n",
      "RecursionError()\n",
      "RecursionError()\n",
      "RecursionError()\n",
      "RecursionError()\n",
      "RecursionError()\n"
     ]
    },
    {
     "name": "stderr",
     "output_type": "stream",
     "text": [
      " 95%|█████████▌| 696/729 [01:35<00:15,  2.14it/s]"
     ]
    },
    {
     "name": "stdout",
     "output_type": "stream",
     "text": [
      "RecursionError()\n",
      "RecursionError()\n",
      "RecursionError()\n",
      "RecursionError()\n",
      "RecursionError()\n",
      "RecursionError()\n",
      "RecursionError()\n",
      "RecursionError()\n",
      "RecursionError()\n",
      "RecursionError()\n"
     ]
    },
    {
     "name": "stderr",
     "output_type": "stream",
     "text": [
      " 98%|█████████▊| 714/729 [01:37<00:02,  6.10it/s]"
     ]
    },
    {
     "name": "stdout",
     "output_type": "stream",
     "text": [
      "RecursionError()\n",
      "RecursionError()\n",
      "RecursionError()\n",
      "RecursionError()\n",
      "RecursionError()\n",
      "RecursionError()\n"
     ]
    },
    {
     "name": "stderr",
     "output_type": "stream",
     "text": [
      " 98%|█████████▊| 717/729 [01:38<00:02,  5.66it/s]"
     ]
    },
    {
     "name": "stdout",
     "output_type": "stream",
     "text": [
      "RecursionError()\n",
      "RecursionError()\n",
      "RecursionError()\n",
      "RecursionError()\n",
      "RecursionError()\n",
      "RecursionError()\n",
      "RecursionError()\n",
      "RecursionError()\n",
      "RecursionError()\n",
      "RecursionError()\n",
      "RecursionError()\n"
     ]
    },
    {
     "name": "stderr",
     "output_type": "stream",
     "text": [
      " 99%|█████████▉| 720/729 [01:40<00:03,  2.57it/s]"
     ]
    },
    {
     "name": "stdout",
     "output_type": "stream",
     "text": [
      "RecursionError()\n",
      "RecursionError()\n",
      "RecursionError()\n",
      "RecursionError()\n",
      "RecursionError()\n",
      "RecursionError()\n",
      "RecursionError()\n",
      "RecursionError()\n",
      "RecursionError()\n",
      "RecursionError()\n",
      "RecursionError()\n",
      "RecursionError()\n",
      "RecursionError()\n",
      "RecursionError()\n",
      "RecursionError()\n",
      "RecursionError()\n"
     ]
    },
    {
     "name": "stderr",
     "output_type": "stream",
     "text": [
      " 99%|█████████▉| 722/729 [01:40<00:01,  3.51it/s]"
     ]
    },
    {
     "name": "stdout",
     "output_type": "stream",
     "text": [
      "RecursionError()\n",
      "RecursionError()\n",
      "RecursionError()\n",
      "RecursionError()\n",
      "RecursionError()\n",
      "RecursionError()\n",
      "RecursionError()\n",
      "RecursionError()\n",
      "RecursionError()\n",
      "RecursionError()\n",
      "RecursionError()\n",
      "RecursionError()\n",
      "RecursionError()\n"
     ]
    },
    {
     "name": "stderr",
     "output_type": "stream",
     "text": [
      " 99%|█████████▉| 724/729 [01:40<00:01,  4.49it/s]"
     ]
    },
    {
     "name": "stdout",
     "output_type": "stream",
     "text": [
      "RecursionError()\n",
      "RecursionError()\n",
      "RecursionError()\n",
      "RecursionError()\n",
      "RecursionError()\n",
      "RecursionError()\n"
     ]
    },
    {
     "name": "stderr",
     "output_type": "stream",
     "text": [
      "100%|█████████▉| 726/729 [01:43<00:01,  1.99it/s]"
     ]
    },
    {
     "name": "stdout",
     "output_type": "stream",
     "text": [
      "RecursionError()\n",
      "RecursionError()\n",
      "RecursionError()\n",
      "RecursionError()\n",
      "RecursionError()\n",
      "RecursionError()\n",
      "RecursionError()\n",
      "RecursionError()\n",
      "RecursionError()\n",
      "RecursionError()\n",
      "RecursionError()\n",
      "RecursionError()\n",
      "RecursionError()\n"
     ]
    },
    {
     "name": "stderr",
     "output_type": "stream",
     "text": [
      "100%|██████████| 729/729 [01:43<00:00,  7.05it/s]\n"
     ]
    },
    {
     "name": "stdout",
     "output_type": "stream",
     "text": [
      "RecursionError()\n",
      "Percentage of missing result: 1.53\n",
      "              precision    recall  f1-score   support\n",
      "\n",
      "           0       1.00      1.00      1.00     37211\n",
      "           1       1.00      1.00      1.00     51360\n",
      "           2       1.00      1.00      1.00     51769\n",
      "           3       1.00      1.00      1.00     52691\n",
      "           4       1.00      1.00      1.00     53107\n",
      "           5       1.00      1.00      1.00     53310\n",
      "           6       1.00      1.00      1.00     53805\n",
      "           7       1.00      1.00      1.00     54277\n",
      "           8       1.00      1.00      1.00     54434\n",
      "           9       1.00      1.00      1.00     54716\n",
      "           +       1.00      1.00      1.00    141105\n",
      "           -       1.00      1.00      1.00    102765\n",
      "           *       1.00      1.00      1.00    130088\n",
      "           /       1.00      1.00      1.00     96102\n",
      "           (       1.00      1.00      1.00    205661\n",
      "           )       1.00      1.00      1.00    205661\n",
      "\n",
      "    accuracy                           1.00   1398062\n",
      "   macro avg       1.00      1.00      1.00   1398062\n",
      "weighted avg       1.00      1.00      1.00   1398062\n",
      "\n",
      "     0    1    2    3    4    5    6    7    8    9     +    -    *    /     (     )\n",
      "0  266    0    0    0    0    0    0    0    0    0     0    0    0    0     0     0\n",
      "1    0  367    0    0    0    0    0    0    0    0     0    0    0    0     0     0\n",
      "2    0    0  370    0    0    0    0    0    0    0     0    0    0    0     0     0\n",
      "3    0    0    0  376    0    0    0    0    0    0     0    0    0    0     0     0\n",
      "4    0    0    0    0  379    0    0    0    0    0     0    0    0    0     0     0\n",
      "5    0    0    0    0    0  381    0    0    0    0     0    0    0    0     0     0\n",
      "6    0    0    0    0    0    0  384    0    0    0     0    0    0    0     0     0\n",
      "7    0    0    0    0    0    0    0  388    0    0     0    0    0    0     0     0\n",
      "8    0    0    0    0    0    0    0    0  389    0     0    0    0    0     0     0\n",
      "9    0    0    0    0    0    0    0    0    0  391     0    0    0    0     0     0\n",
      "+    0    0    0    0    0    0    0    0    0    0  1009    0    0    0     0     0\n",
      "-    0    0    0    0    0    0    0    0    0    0     0  735    0    0     0     0\n",
      "*    0    0    0    0    0    0    0    0    0    0     0    0  930    0     0     0\n",
      "/    0    0    0    0    0    0    0    0    0    0     0    0    0  687     0     0\n",
      "(    0    0    0    0    0    0    0    0    0    0     0    0    0    0  1471     0\n",
      ")    0    0    0    0    0    0    0    0    0    0     0    0    0    0     0  1471\n",
      "0: 100.00\n",
      "1: 100.00\n",
      "2: 100.00\n",
      "3: 100.00\n",
      "4: 100.00\n",
      "5: 100.00\n",
      "6: 100.00\n",
      "7: 100.00\n",
      "8: 100.00\n",
      "9: 100.00\n",
      "+: 100.00\n",
      "-: 100.00\n",
      "*: 100.00\n",
      "/: 100.00\n",
      "(: 100.00\n",
      "): 100.00\n",
      "Parentheses: 100.00, Non-parentheses: 100.00\n",
      "error cases:\n",
      "9 * 9 * 8 * 3 / 1\n",
      "9 * 9 * 8 * 3 / 1\n",
      "[1, 3, 1, 5, 3, 7, 5, -1, 7]\n",
      "[1, 3, 1, 5, 3, 7, 5, -1, 7]\n",
      "1944\n",
      "-2\n",
      "\n",
      "1 + 5 * 5 * ( 7 * 6 )\n",
      "1 + 5 * 5 * ( 7 * 6 )\n",
      "[1, -1, 3, 5, 3, 1, 8, 8, 5, 8, 8]\n",
      "[1, -1, 3, 5, 3, 1, 8, 8, 5, 8, 8]\n",
      "1051\n",
      "-2\n",
      "\n",
      "9 * ( 3 + 6 * ( 9 * 5 ) ) / 1\n",
      "9 * ( 3 + 6 * ( 9 * 5 ) ) / 1\n",
      "[1, 13, 4, 4, 1, 6, 4, 9, 9, 6, 9, 9, 4, -1, 13]\n",
      "[1, 13, 4, 4, 1, 6, 4, 9, 9, 6, 9, 9, 4, -1, 13]\n",
      "2457\n",
      "-2\n",
      "\n",
      "Iter 0: val (Perception Acc=100.00, Head Acc=100.00, Result Acc=98.47)\n"
     ]
    }
   ],
   "source": [
    "args.perception = True\n",
    "args.syntax = True\n",
    "args.semantics = False\n",
    "args.resume = 'outputs/wandb/run-20220926_094832-5u4qo99n/ckpt/model_100.p'\n",
    "model = Jointer(args)\n",
    "if args.resume:\n",
    "    st_epoch = model.load(args.resume)\n",
    "\n",
    "batch_size = 64\n",
    "eval_dataloader = torch.utils.data.DataLoader(args.test_set, batch_size=batch_size,\n",
    "                         shuffle=False, num_workers=4, collate_fn=args.domain.collate)\n",
    "perception_acc, head_acc, result_acc = evaluate(model, eval_dataloader)\n",
    "print('Iter {}: {} (Perception Acc={:.2f}, Head Acc={:.2f}, Result Acc={:.2f})'.format(0, 'val', 100*perception_acc, 100*head_acc, 100*result_acc))"
   ]
  },
  {
   "cell_type": "code",
   "execution_count": null,
   "id": "f2fb5e8d",
   "metadata": {},
   "outputs": [],
   "source": []
  }
 ],
 "metadata": {
  "kernelspec": {
   "display_name": "ans",
   "language": "python",
   "name": "ans"
  },
  "language_info": {
   "codemirror_mode": {
    "name": "ipython",
    "version": 3
   },
   "file_extension": ".py",
   "mimetype": "text/x-python",
   "name": "python",
   "nbconvert_exporter": "python",
   "pygments_lexer": "ipython3",
   "version": "3.6.15"
  }
 },
 "nbformat": 4,
 "nbformat_minor": 5
}
